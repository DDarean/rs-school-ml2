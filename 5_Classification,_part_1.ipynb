{
  "nbformat": 4,
  "nbformat_minor": 0,
  "metadata": {
    "kernelspec": {
      "display_name": "Python 3",
      "language": "python",
      "name": "python3"
    },
    "language_info": {
      "codemirror_mode": {
        "name": "ipython",
        "version": 3
      },
      "file_extension": ".py",
      "mimetype": "text/x-python",
      "name": "python",
      "nbconvert_exporter": "python",
      "pygments_lexer": "ipython3",
      "version": "3.8.5"
    },
    "colab": {
      "name": "5. Classification, part 1.ipynb",
      "provenance": [],
      "toc_visible": true
    }
  },
  "cells": [
    {
      "cell_type": "markdown",
      "metadata": {
        "id": "rRh352bqKtE1"
      },
      "source": [
        "# Classification. Linear models and KNN"
      ]
    },
    {
      "cell_type": "code",
      "metadata": {
        "id": "3a0D2MrIKtFB"
      },
      "source": [
        "import os\n",
        "import numpy as np\n",
        "import pandas as pd\n",
        "import seaborn as sns\n",
        "import matplotlib.pyplot as plt"
      ],
      "execution_count": 4,
      "outputs": []
    },
    {
      "cell_type": "code",
      "metadata": {
        "id": "OiN13dWdKtFD"
      },
      "source": [
        "from sklearn.pipeline import Pipeline\n",
        "from sklearn.compose import ColumnTransformer\n",
        "from sklearn.model_selection import train_test_split, cross_validate\n",
        "from sklearn.metrics import plot_confusion_matrix, accuracy_score\n",
        "from sklearn.linear_model import SGDClassifier\n",
        "from sklearn.preprocessing import StandardScaler, OneHotEncoder"
      ],
      "execution_count": 5,
      "outputs": []
    },
    {
      "cell_type": "markdown",
      "metadata": {
        "id": "4_J-y3KFKtFD"
      },
      "source": [
        "## Part 1: Titanic survival prediction"
      ]
    },
    {
      "cell_type": "markdown",
      "metadata": {
        "id": "rF_P1j4fKtFE"
      },
      "source": [
        "### Dataset\n",
        "\n",
        "Read the description here: https://www.kaggle.com/c/titanic/data. Download the dataset and place it in the *data/titanic/* folder in your working directory.\n",
        "You will use train.csv for model training and validation. The test set is used for model testing: once the model is trained, you can predict whether a passenger survived or not for each passenger in the test set, and submit the predictions: https://www.kaggle.com/c/titanic/overview/evaluation.  \n"
      ]
    },
    {
      "cell_type": "code",
      "metadata": {
        "colab": {
          "base_uri": "https://localhost:8080/"
        },
        "id": "afO3Oe4NM1su",
        "outputId": "7bab1bba-7ac7-4e00-f4db-c84de0745a24"
      },
      "source": [
        "from google.colab import drive\r\n",
        "drive.mount('/content/drive')"
      ],
      "execution_count": 1,
      "outputs": [
        {
          "output_type": "stream",
          "text": [
            "Mounted at /content/drive\n"
          ],
          "name": "stdout"
        }
      ]
    },
    {
      "cell_type": "code",
      "metadata": {
        "id": "2dlGrahrKtFF"
      },
      "source": [
        "PATH = \"/content/drive/MyDrive/data\""
      ],
      "execution_count": 2,
      "outputs": []
    },
    {
      "cell_type": "code",
      "metadata": {
        "id": "Pq0UExrLKtFF"
      },
      "source": [
        "data = pd.read_csv(os.path.join(PATH, 'train.csv')).set_index('PassengerId')"
      ],
      "execution_count": 6,
      "outputs": []
    },
    {
      "cell_type": "code",
      "metadata": {
        "scrolled": true,
        "colab": {
          "base_uri": "https://localhost:8080/",
          "height": 514
        },
        "id": "GNrZnRebKtFG",
        "outputId": "13bf1c57-35f4-45c6-91e6-da64b9b02034"
      },
      "source": [
        "data.head()"
      ],
      "execution_count": null,
      "outputs": [
        {
          "output_type": "execute_result",
          "data": {
            "text/html": [
              "<div>\n",
              "<style scoped>\n",
              "    .dataframe tbody tr th:only-of-type {\n",
              "        vertical-align: middle;\n",
              "    }\n",
              "\n",
              "    .dataframe tbody tr th {\n",
              "        vertical-align: top;\n",
              "    }\n",
              "\n",
              "    .dataframe thead th {\n",
              "        text-align: right;\n",
              "    }\n",
              "</style>\n",
              "<table border=\"1\" class=\"dataframe\">\n",
              "  <thead>\n",
              "    <tr style=\"text-align: right;\">\n",
              "      <th></th>\n",
              "      <th>Survived</th>\n",
              "      <th>Pclass</th>\n",
              "      <th>Name</th>\n",
              "      <th>Sex</th>\n",
              "      <th>Age</th>\n",
              "      <th>SibSp</th>\n",
              "      <th>Parch</th>\n",
              "      <th>Ticket</th>\n",
              "      <th>Fare</th>\n",
              "      <th>Cabin</th>\n",
              "      <th>Embarked</th>\n",
              "    </tr>\n",
              "    <tr>\n",
              "      <th>PassengerId</th>\n",
              "      <th></th>\n",
              "      <th></th>\n",
              "      <th></th>\n",
              "      <th></th>\n",
              "      <th></th>\n",
              "      <th></th>\n",
              "      <th></th>\n",
              "      <th></th>\n",
              "      <th></th>\n",
              "      <th></th>\n",
              "      <th></th>\n",
              "    </tr>\n",
              "  </thead>\n",
              "  <tbody>\n",
              "    <tr>\n",
              "      <th>1</th>\n",
              "      <td>0</td>\n",
              "      <td>3</td>\n",
              "      <td>Braund, Mr. Owen Harris</td>\n",
              "      <td>male</td>\n",
              "      <td>22.0</td>\n",
              "      <td>1</td>\n",
              "      <td>0</td>\n",
              "      <td>A/5 21171</td>\n",
              "      <td>7.2500</td>\n",
              "      <td>NaN</td>\n",
              "      <td>S</td>\n",
              "    </tr>\n",
              "    <tr>\n",
              "      <th>2</th>\n",
              "      <td>1</td>\n",
              "      <td>1</td>\n",
              "      <td>Cumings, Mrs. John Bradley (Florence Briggs Th...</td>\n",
              "      <td>female</td>\n",
              "      <td>38.0</td>\n",
              "      <td>1</td>\n",
              "      <td>0</td>\n",
              "      <td>PC 17599</td>\n",
              "      <td>71.2833</td>\n",
              "      <td>C85</td>\n",
              "      <td>C</td>\n",
              "    </tr>\n",
              "    <tr>\n",
              "      <th>3</th>\n",
              "      <td>1</td>\n",
              "      <td>3</td>\n",
              "      <td>Heikkinen, Miss. Laina</td>\n",
              "      <td>female</td>\n",
              "      <td>26.0</td>\n",
              "      <td>0</td>\n",
              "      <td>0</td>\n",
              "      <td>STON/O2. 3101282</td>\n",
              "      <td>7.9250</td>\n",
              "      <td>NaN</td>\n",
              "      <td>S</td>\n",
              "    </tr>\n",
              "    <tr>\n",
              "      <th>4</th>\n",
              "      <td>1</td>\n",
              "      <td>1</td>\n",
              "      <td>Futrelle, Mrs. Jacques Heath (Lily May Peel)</td>\n",
              "      <td>female</td>\n",
              "      <td>35.0</td>\n",
              "      <td>1</td>\n",
              "      <td>0</td>\n",
              "      <td>113803</td>\n",
              "      <td>53.1000</td>\n",
              "      <td>C123</td>\n",
              "      <td>S</td>\n",
              "    </tr>\n",
              "    <tr>\n",
              "      <th>5</th>\n",
              "      <td>0</td>\n",
              "      <td>3</td>\n",
              "      <td>Allen, Mr. William Henry</td>\n",
              "      <td>male</td>\n",
              "      <td>35.0</td>\n",
              "      <td>0</td>\n",
              "      <td>0</td>\n",
              "      <td>373450</td>\n",
              "      <td>8.0500</td>\n",
              "      <td>NaN</td>\n",
              "      <td>S</td>\n",
              "    </tr>\n",
              "  </tbody>\n",
              "</table>\n",
              "</div>"
            ],
            "text/plain": [
              "             Survived  Pclass  ... Cabin Embarked\n",
              "PassengerId                    ...               \n",
              "1                   0       3  ...   NaN        S\n",
              "2                   1       1  ...   C85        C\n",
              "3                   1       3  ...   NaN        S\n",
              "4                   1       1  ...  C123        S\n",
              "5                   0       3  ...   NaN        S\n",
              "\n",
              "[5 rows x 11 columns]"
            ]
          },
          "metadata": {
            "tags": []
          },
          "execution_count": 15
        }
      ]
    },
    {
      "cell_type": "markdown",
      "metadata": {
        "id": "VrV0G1NRKtFI"
      },
      "source": [
        "### EDA"
      ]
    },
    {
      "cell_type": "markdown",
      "metadata": {
        "id": "8O6DST7pKtFJ"
      },
      "source": [
        "**(0.5 points)** How many females and males are there in the dataset? What about the survived passengers? Is there any relationship between the gender and the survival?"
      ]
    },
    {
      "cell_type": "code",
      "metadata": {
        "colab": {
          "base_uri": "https://localhost:8080/"
        },
        "id": "h_-Hbcb4KtFJ",
        "outputId": "44877e59-3b8c-49f2-eec9-c35fc486b649"
      },
      "source": [
        "total_females = data.loc[data['Sex'] == 'female'].shape[0]\r\n",
        "total_males = data.loc[data['Sex'] == 'male'].shape[0]\r\n",
        "# Проверим все ли строки без ошибок\r\n",
        "print(females + males, data.shape[0]) #Всё на месте, отлично\r\n",
        "print('Количество женщин: {}'.format(total_females))\r\n",
        "print('Количество мужчин: {}'.format(total_males))\r\n",
        "\r\n",
        "survived_females = data.loc[(data['Sex'] == 'female') & (data['Survived'] == 1)].shape[0]\r\n",
        "survived_males = data.loc[(data['Sex'] == 'male') & (data['Survived'] == 1)].shape[0]\r\n",
        "\r\n",
        "print('Процент выживших женщин: {:.1%}'.format(survived_females / total_females))\r\n",
        "print('Процент выживших мужчин: {:.1%}'.format(survived_males / total_males))\r\n",
        "\r\n"
      ],
      "execution_count": null,
      "outputs": [
        {
          "output_type": "stream",
          "text": [
            "891 891\n",
            "Количество женщин: 314\n",
            "Количество мужчин: 577\n",
            "Процент выживших женщин: 74.2%\n",
            "Процент выживших мужчин: 18.9%\n"
          ],
          "name": "stdout"
        }
      ]
    },
    {
      "cell_type": "markdown",
      "metadata": {
        "id": "bBYN9-2vKtFK"
      },
      "source": [
        "Видим сильную разницу в доле выживших в зависимости от пола. Судя по всему, действовало правило \"первыми спасаются женщины и дети\" (про детей проверим далее)"
      ]
    },
    {
      "cell_type": "markdown",
      "metadata": {
        "id": "euybVmVLKtFK"
      },
      "source": [
        "**(0.5 points)** Plot age distribution of the passengers. What is the average and the median age of survived and deceased passengers? Do age distributions differ for survived and deceased passengers? Why?"
      ]
    },
    {
      "cell_type": "code",
      "metadata": {
        "colab": {
          "base_uri": "https://localhost:8080/",
          "height": 278
        },
        "id": "spqU0tR3KtFK",
        "outputId": "36419dde-5d1e-463d-80f0-11cb327764f7"
      },
      "source": [
        "plt.hist(data['Age'], edgecolor='black', linewidth=1.2);\r\n",
        "plt.xlabel('Passengers\\' age' );\r\n",
        "plt.ylabel('Passengers quantity');"
      ],
      "execution_count": null,
      "outputs": [
        {
          "output_type": "display_data",
          "data": {
            "image/png": "[encoded data removed]",
            "text/plain": [
              "<Figure size 432x288 with 1 Axes>"
            ]
          },
          "metadata": {
            "tags": [],
            "needs_background": "light"
          }
        }
      ]
    },
    {
      "cell_type": "markdown",
      "metadata": {
        "id": "pntImpSXQ6zT"
      },
      "source": [
        "Видим что в этом рейсе было много молодых людей. Проверим есть ли зависимость вероятности спасения от возраста"
      ]
    },
    {
      "cell_type": "code",
      "metadata": {
        "colab": {
          "base_uri": "https://localhost:8080/"
        },
        "id": "0Wj0wl6HRIO2",
        "outputId": "07500b6c-3334-42ba-e768-6aabe698a111"
      },
      "source": [
        "survived = data.loc[data['Survived'] == 1]\r\n",
        "deceased = data.loc[data['Survived'] == 0]\r\n",
        "print('Средний возраст выживших пассажиров: {:.0f} лет'.format(survived['Age'].mean()))\r\n",
        "print('Средний возраст погибших пассажиров: {:.0f} лет'.format(deceased['Age'].mean()))"
      ],
      "execution_count": null,
      "outputs": [
        {
          "output_type": "stream",
          "text": [
            "Средний возраст выживших пассажиров: 28 лет\n",
            "Средний возраст погибших пассажиров: 31 лет\n"
          ],
          "name": "stdout"
        }
      ]
    },
    {
      "cell_type": "markdown",
      "metadata": {
        "id": "ma6EgGgbR7Fs"
      },
      "source": [
        "Небольшое различие есть, смотрим распределение возраста в каждой категории:"
      ]
    },
    {
      "cell_type": "code",
      "metadata": {
        "colab": {
          "base_uri": "https://localhost:8080/",
          "height": 312
        },
        "id": "-RBjAJ6zSAtx",
        "outputId": "5cc075a7-0064-4716-a5d8-5256c2c22563"
      },
      "source": [
        "plt.hist(survived['Age'], edgecolor='black', linewidth=1.2);\r\n",
        "plt.xlabel('Passengers\\' age' );\r\n",
        "plt.ylabel('Passengers quantity');\r\n",
        "plt.title('Survived')"
      ],
      "execution_count": null,
      "outputs": [
        {
          "output_type": "execute_result",
          "data": {
            "text/plain": [
              "Text(0.5, 1.0, 'Survived')"
            ]
          },
          "metadata": {
            "tags": []
          },
          "execution_count": 42
        },
        {
          "output_type": "display_data",
          "data": {
            "image/png": "[encoded data removed]",
            "text/plain": [
              "<Figure size 432x288 with 1 Axes>"
            ]
          },
          "metadata": {
            "tags": [],
            "needs_background": "light"
          }
        }
      ]
    },
    {
      "cell_type": "code",
      "metadata": {
        "colab": {
          "base_uri": "https://localhost:8080/",
          "height": 312
        },
        "id": "9DnF4QQ2SVML",
        "outputId": "e1117949-a79f-4e63-c4a9-ac52c129ed39"
      },
      "source": [
        "plt.hist(deceased['Age'], edgecolor='black', linewidth=1.2);\r\n",
        "plt.xlabel('Passengers\\' age' );\r\n",
        "plt.ylabel('Passengers quantity');\r\n",
        "plt.title('Deceased')"
      ],
      "execution_count": null,
      "outputs": [
        {
          "output_type": "execute_result",
          "data": {
            "text/plain": [
              "Text(0.5, 1.0, 'Deceased')"
            ]
          },
          "metadata": {
            "tags": []
          },
          "execution_count": 40
        },
        {
          "output_type": "display_data",
          "data": {
            "image/png": "[encoded data removed]",
            "text/plain": [
              "<Figure size 432x288 with 1 Axes>"
            ]
          },
          "metadata": {
            "tags": [],
            "needs_background": "light"
          }
        }
      ]
    },
    {
      "cell_type": "markdown",
      "metadata": {
        "id": "EaQfrEtuKtFL"
      },
      "source": [
        "Распределения отличаются на хвостах, на первом графике видно что детей старались спасать и в итоге их выжило больше, чем погибло. Также видно спасшегося пассажира преклонного возраста, возможно, пожилых тоже старались спасти первыми (гипотеза)"
      ]
    },
    {
      "cell_type": "markdown",
      "metadata": {
        "id": "XtAb32_0KtFL"
      },
      "source": [
        "**(1 point)** Explore \"passenger class\" and \"embarked\" features. What class was \"the safest\"? Is there any relationship between the embarkation port and the survival? Provide the corresponding visualizations."
      ]
    },
    {
      "cell_type": "markdown",
      "metadata": {
        "id": "CkDNudg0X-LJ"
      },
      "source": [
        "Начнём с анализа выживаемости в разных классах"
      ]
    },
    {
      "cell_type": "code",
      "metadata": {
        "colab": {
          "base_uri": "https://localhost:8080/",
          "height": 296
        },
        "id": "vyARJhJFVKHI",
        "outputId": "904abdcb-5e64-44c1-c610-37936da28344"
      },
      "source": [
        "plt.hist(data['Pclass'], bins = [1,2,3,4], edgecolor='black', linewidth=1.2);\r\n",
        "#plt.hist(deceased['Pclass'], bins = [1,2,3,4], edgecolor='black', linewidth=1.2);\r\n",
        "plt.hist(survived['Pclass'], bins = [1,2,3,4], edgecolor='black', linewidth=1.2);\r\n",
        "#plt.legend(labels = ['Deceased','Survived'])\r\n",
        "plt.legend(labels = ['Total', 'Survived']);\r\n",
        "plt.xlabel('Class')\r\n",
        "plt.ylabel('Passengers')"
      ],
      "execution_count": null,
      "outputs": [
        {
          "output_type": "execute_result",
          "data": {
            "text/plain": [
              "Text(0, 0.5, 'Passengers')"
            ]
          },
          "metadata": {
            "tags": []
          },
          "execution_count": 88
        },
        {
          "output_type": "display_data",
          "data": {
            "image/png": "[encoded data removed]",
            "text/plain": [
              "<Figure size 432x288 with 1 Axes>"
            ]
          },
          "metadata": {
            "tags": [],
            "needs_background": "light"
          }
        }
      ]
    },
    {
      "cell_type": "code",
      "metadata": {
        "colab": {
          "base_uri": "https://localhost:8080/"
        },
        "id": "dOTS8AJ4V_9j",
        "outputId": "4bfd4926-2b6b-4bc8-845d-7f38bbdd0211"
      },
      "source": [
        "survived_1cl = survived.loc[survived['Pclass'] == 1].shape[0]\r\n",
        "survived_2cl = survived.loc[survived['Pclass'] == 2].shape[0]\r\n",
        "survived_3cl = survived.loc[survived['Pclass'] == 3].shape[0]\r\n",
        "\r\n",
        "total_1cl = data.loc[data['Pclass'] == 1].shape[0]\r\n",
        "total_2cl = data.loc[data['Pclass'] == 2].shape[0]\r\n",
        "total_3cl = data.loc[data['Pclass'] == 3].shape[0]\r\n",
        "print('Доля выживших в первом классе: {:.2%}'.format(survived_1cl / total_1cl))\r\n",
        "print('Доля выживших во втором классе: {:.2%}'.format(survived_2cl / total_2cl))\r\n",
        "print('Доля выживших в третьем классе: {:.2%}'.format(survived_3cl / total_3cl))"
      ],
      "execution_count": null,
      "outputs": [
        {
          "output_type": "stream",
          "text": [
            "Доля выживших в первом классе: 62.96%\n",
            "Доля выживших во втором классе: 47.28%\n",
            "Доля выживших в третьем классе: 24.24%\n"
          ],
          "name": "stdout"
        }
      ]
    },
    {
      "cell_type": "markdown",
      "metadata": {
        "id": "3Ogfz_GiKtFM"
      },
      "source": [
        "По графикам и цифрам чётко прослеживается зависимость выживаемости от класса билета (на данный момент пропуски еще не проанализированы, поэтому возможны отклонения, но всё-таки разница значительная). Больше всего погибших в третьем классе. Одна из вероятных причин - более дорогие классы имеют лучшее расположение с легким доступом на палубу, что позволило быстрее выбраться и спастись"
      ]
    },
    {
      "cell_type": "markdown",
      "metadata": {
        "id": "AhRG8WkgYRU7"
      },
      "source": [
        "Теперь посмотрим на выживаемость в зависимости от порта посадки"
      ]
    },
    {
      "cell_type": "code",
      "metadata": {
        "id": "2zfWwdU0Ygrn"
      },
      "source": [
        "#embarked = data[['Survived', 'Embarked']]\r\n",
        "#embarked = pd.get_dummies(embarked['Embarked'])"
      ],
      "execution_count": null,
      "outputs": []
    },
    {
      "cell_type": "code",
      "metadata": {
        "colab": {
          "base_uri": "https://localhost:8080/",
          "height": 263
        },
        "id": "r3GHvLMMaI9i",
        "outputId": "a3b14fb7-9bd2-427e-a300-0bf791b4999f"
      },
      "source": [
        "data['Embarked'].value_counts().plot(kind = 'bar', edgecolor='black', linewidth=1.2)\r\n",
        "df2 = survived['Embarked'].value_counts()"
      ],
      "execution_count": null,
      "outputs": [
        {
          "output_type": "display_data",
          "data": {
            "image/png": "[encoded data removed]",
            "text/plain": [
              "<Figure size 432x288 with 1 Axes>"
            ]
          },
          "metadata": {
            "tags": [],
            "needs_background": "light"
          }
        }
      ]
    },
    {
      "cell_type": "code",
      "metadata": {
        "colab": {
          "base_uri": "https://localhost:8080/",
          "height": 276
        },
        "id": "uQJgwGYlbu8Z",
        "outputId": "292736a6-b89c-4a86-a098-49205223bf7d"
      },
      "source": [
        "ax = data['Embarked'].value_counts().plot(kind = 'bar', edgecolor='black', linewidth=1.2, color = 'blue');\r\n",
        "ax2 = df2.plot(ax=ax, kind = 'bar', color = 'orange', edgecolor='black', linewidth=1.2);\r\n",
        "ax2.set_xlabel('Port');\r\n",
        "ax2.set_ylabel('Passengers');"
      ],
      "execution_count": null,
      "outputs": [
        {
          "output_type": "display_data",
          "data": {
            "image/png": "[encoded data removed]",
            "text/plain": [
              "<Figure size 432x288 with 1 Axes>"
            ]
          },
          "metadata": {
            "tags": [],
            "needs_background": "light"
          }
        }
      ]
    },
    {
      "cell_type": "code",
      "metadata": {
        "colab": {
          "base_uri": "https://localhost:8080/"
        },
        "id": "i5yH5NFfjFe8",
        "outputId": "90820d6a-204e-4690-8968-e7ddf57ffa7a"
      },
      "source": [
        "total_embarked_S = data.loc[data['Embarked'] == 'S'].shape[0]\r\n",
        "total_embarked_C = data.loc[data['Embarked'] == 'C'].shape[0]\r\n",
        "total_embarked_Q = data.loc[data['Embarked'] == 'Q'].shape[0]\r\n",
        "survived_embarked_S = survived.loc[survived['Embarked'] == 'S'].shape[0]\r\n",
        "survived_embarked_C = survived.loc[survived['Embarked'] == 'C'].shape[0]\r\n",
        "survived_embarked_Q = survived.loc[survived['Embarked'] == 'Q'].shape[0]\r\n",
        "print('Доля выживших из {}: {:.2%}'.format('Southampton', survived_embarked_S / total_embarked_S))\r\n",
        "print('Доля выживших из {}: {:.2%}'.format('Cherbourg', survived_embarked_C / total_embarked_C))\r\n",
        "print('Доля выживших из {}: {:.2%}'.format('Queenstown', survived_embarked_Q / total_embarked_Q))"
      ],
      "execution_count": null,
      "outputs": [
        {
          "output_type": "stream",
          "text": [
            "Доля выживших из Southampton: 33.70%\n",
            "Доля выживших из Cherbourg: 55.36%\n",
            "Доля выживших из Queenstown: 38.96%\n"
          ],
          "name": "stdout"
        }
      ]
    },
    {
      "cell_type": "markdown",
      "metadata": {
        "id": "dqBQX1dkk89B"
      },
      "source": [
        "Внезапно, обнаруживаем что доля выживших из порта Cherbourg выше, чем в остальных двух. Стоит принять эту информацию во внимание и проверить - возможно, в этом городе выше доля пассажиров первых классов и отличие объясняется этим"
      ]
    },
    {
      "cell_type": "markdown",
      "metadata": {
        "id": "ePydvg9sKtFM"
      },
      "source": [
        "### Modelling"
      ]
    },
    {
      "cell_type": "markdown",
      "metadata": {
        "id": "22CQBaPwKtFM"
      },
      "source": [
        "**(0.5 points)** Find the percentage of missing values for each feature. "
      ]
    },
    {
      "cell_type": "code",
      "metadata": {
        "colab": {
          "base_uri": "https://localhost:8080/"
        },
        "id": "e3yQnJJuKtFN",
        "outputId": "2b1ae133-66c1-4413-cb2e-6aaf1f5c61a9"
      },
      "source": [
        " data.isnull().sum() / data.shape[0] * 100"
      ],
      "execution_count": null,
      "outputs": [
        {
          "output_type": "execute_result",
          "data": {
            "text/plain": [
              "Survived     0.000000\n",
              "Pclass       0.000000\n",
              "Name         0.000000\n",
              "Sex          0.000000\n",
              "Age         19.865320\n",
              "SibSp        0.000000\n",
              "Parch        0.000000\n",
              "Ticket       0.000000\n",
              "Fare         0.000000\n",
              "Cabin       77.104377\n",
              "Embarked     0.224467\n",
              "dtype: float64"
            ]
          },
          "metadata": {
            "tags": []
          },
          "execution_count": 138
        }
      ]
    },
    {
      "cell_type": "markdown",
      "metadata": {
        "id": "EXQur6ogKtFN"
      },
      "source": [
        "Think about the ways to handle these missing values for modelling and write your answer below. Which methods would you suggest? What are their advantages and disadvantages?"
      ]
    },
    {
      "cell_type": "markdown",
      "metadata": {
        "id": "GhHjOllGmOMU"
      },
      "source": [
        "Видим большое количество пропущенных значение в столбце 'Cabin', т.к. процент довольно высок и вероятнее всего полезной информации эта фича не несёт (т.к. уже есть информация о классе каюты), можно попробовать её просто удалить. Минус такого подхода - при неверной оценке важности фичи, можно дропнуть что-то важное.  \r\n",
        "Столбец 'Age' - здесь количество пропущенных значений тоже довольно велико, но мы уже убедились, что возраст связан с шансом выжить, поэтому в данном случае удалять нежелательно. Можно попробовать заполнить средними значениями, минус - нужно подобрать стратегию, как именно заполнять. Иначе можно внести сильные искажения (например, если пропущенные значения в основном у детей, но заполним средним по всем пассажирам, что даст высокое значение)"
      ]
    },
    {
      "cell_type": "code",
      "metadata": {
        "id": "cYMxmskBmCae"
      },
      "source": [
        ""
      ],
      "execution_count": null,
      "outputs": []
    },
    {
      "cell_type": "markdown",
      "metadata": {
        "id": "Jrql_mI-KtFN"
      },
      "source": [
        "**(1.5 points)** Prepare the features and train two models (KNN and Logistic Regression) to predict the survival. Compare the results. Use accuracy as a metric. Don't forget about cross-validation!"
      ]
    },
    {
      "cell_type": "code",
      "metadata": {
        "id": "sa-YI6A3KtFO"
      },
      "source": [
        "X = data.drop('Survived', axis = 1)\r\n",
        "y = data['Survived']"
      ],
      "execution_count": 7,
      "outputs": []
    },
    {
      "cell_type": "markdown",
      "metadata": {
        "id": "YbgZmhmWoSp6"
      },
      "source": [
        "Обучим очень простые модели на трех признаках: класс, возраст и пол. Класс и пол предварительно преобразуем через pandas.get_dummies. Возраст - заполним средним по всем данным, хотя заполнять значения средним нельзя до разбиения на трейн и тест, т.к. в этом случае есть утечка данных из теста в трейн (но это первая модель, пока так...)"
      ]
    },
    {
      "cell_type": "code",
      "metadata": {
        "id": "AHpdLwFLofrX"
      },
      "source": [
        "features = ['Pclass', 'Age', 'Sex']\r\n",
        "X_train = X[features]\r\n",
        "X_train = X_train.merge(pd.get_dummies(X_train['Sex']), on = 'PassengerId')\r\n",
        "X_train = X_train.drop('Sex', axis = 1)\r\n",
        "X_train = X_train.merge(pd.get_dummies(X_train['Pclass']), on = 'PassengerId')\r\n",
        "X_train = X_train.drop('Pclass', axis = 1)\r\n",
        "X_train['Age'].fillna(X_train['Age'].mean(), inplace = True)"
      ],
      "execution_count": 8,
      "outputs": []
    },
    {
      "cell_type": "code",
      "metadata": {
        "colab": {
          "base_uri": "https://localhost:8080/"
        },
        "id": "k7bL2dpGoy8t",
        "outputId": "460f27d9-1c7d-4cb9-a0c2-29cea7cca52f"
      },
      "source": [
        "#Проверим отсутствие NaN\r\n",
        "X_train.isna().sum()"
      ],
      "execution_count": null,
      "outputs": [
        {
          "output_type": "execute_result",
          "data": {
            "text/plain": [
              "Age       0\n",
              "female    0\n",
              "male      0\n",
              "1         0\n",
              "2         0\n",
              "3         0\n",
              "dtype: int64"
            ]
          },
          "metadata": {
            "tags": []
          },
          "execution_count": 205
        }
      ]
    },
    {
      "cell_type": "code",
      "metadata": {
        "colab": {
          "base_uri": "https://localhost:8080/"
        },
        "id": "Ht7jCLkLnfxJ",
        "outputId": "c91b136c-0916-4c9e-c13b-e5656fec3c6c"
      },
      "source": [
        "from sklearn.model_selection import cross_val_score\r\n",
        "from sklearn.linear_model import LogisticRegression\r\n",
        "from sklearn.neighbors import KNeighborsClassifier\r\n",
        "\r\n",
        "clf = LogisticRegression(random_state = 42)\r\n",
        "scores = cross_val_score(clf, X_train, y, cv=5, scoring = 'accuracy')\r\n",
        "print('Mean accuracy for logistic regression: {:.4f}'.format(scores.mean()))\r\n",
        "clf_knn = KNeighborsClassifier(n_neighbors=3)\r\n",
        "scores = cross_val_score(clf_knn, X_train, y, cv=5, scoring = 'accuracy')\r\n",
        "print('Mean accuracy for kNN: {:.4f}'.format(scores.mean()))"
      ],
      "execution_count": 9,
      "outputs": [
        {
          "output_type": "stream",
          "text": [
            "Mean accuracy for logistic regression: 0.7879\n",
            "Mean accuracy for kNN: 0.7711\n"
          ],
          "name": "stdout"
        }
      ]
    },
    {
      "cell_type": "markdown",
      "metadata": {
        "id": "XqfYN7qKto3O"
      },
      "source": [
        "**Предсказания**"
      ]
    },
    {
      "cell_type": "code",
      "metadata": {
        "id": "59aoScQ7uC0H"
      },
      "source": [
        "test_data = pd.read_csv(os.path.join(PATH, 'test.csv')).set_index('PassengerId')\r\n",
        "features = ['Pclass', 'Age', 'Sex']\r\n",
        "X_test = test_data[features]\r\n",
        "X_test = X_test.merge(pd.get_dummies(X_test['Sex']), on = 'PassengerId')\r\n",
        "X_test = X_test.drop('Sex', axis = 1)\r\n",
        "X_test = X_test.merge(pd.get_dummies(X_test['Pclass']), on = 'PassengerId')\r\n",
        "X_test = X_test.drop('Pclass', axis = 1)\r\n",
        "X_test['Age'].fillna(X_test['Age'].mean(), inplace = True)"
      ],
      "execution_count": 10,
      "outputs": []
    },
    {
      "cell_type": "code",
      "metadata": {
        "id": "lrEkBiDOKtFO"
      },
      "source": [
        "clf.fit(X_train, y)\r\n",
        "clf_knn.fit(X_train, y)\r\n",
        "logreg = clf.predict(X_test)\r\n",
        "knn = clf_knn.predict(X_test)"
      ],
      "execution_count": 12,
      "outputs": []
    },
    {
      "cell_type": "code",
      "metadata": {
        "id": "l0CabompvGjL"
      },
      "source": [
        "submission = pd.read_csv(os.path.join(PATH, 'gender_submission.csv'))\r\n",
        "submission['Survived'] = logreg\r\n",
        "submission.to_csv(os.path.join(PATH,'sub_logreg.csv'), index = False)\r\n",
        "\r\n",
        "submission = pd.read_csv(os.path.join(PATH, 'gender_submission.csv'))\r\n",
        "submission['Survived'] = knn\r\n",
        "submission.to_csv(os.path.join(PATH,'sub_knn.csv'), index = False)"
      ],
      "execution_count": 13,
      "outputs": []
    },
    {
      "cell_type": "markdown",
      "metadata": {
        "id": "2-afOvHdxcoh"
      },
      "source": [
        "**Скор на Kaggle для логистической регрессии: 0.75837**\r\n",
        "\r\n",
        "**Скор на Kaggle для kNN: 0.76555 (см. скрин ниже)**\r\n",
        "\r\n"
      ]
    },
    {
      "cell_type": "markdown",
      "metadata": {
        "id": "9wsYv9eWyV5o"
      },
      "source": [
        "![sub_knn.PNG](data:image/png;base64,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)"
      ]
    },
    {
      "cell_type": "code",
      "metadata": {
        "id": "x0A5DtGhyQA9"
      },
      "source": [
        ""
      ],
      "execution_count": null,
      "outputs": []
    },
    {
      "cell_type": "markdown",
      "metadata": {
        "id": "Uw8h5LZCKtFO"
      },
      "source": [
        "**(0.5 + X points)** Try more feature engineering and hyperparameter tuning to improve the results. You may use either KNN or Logistic Regression (or both)."
      ]
    },
    {
      "cell_type": "markdown",
      "metadata": {
        "id": "LApFaNKl4KbQ"
      },
      "source": [
        "**Спойлер**  \r\n",
        "Итоговая модель не улучшилась, для kNN и лог. регрессии нужно более детально проработать фичи.  \r\n",
        "В итоге **X = 0.5 (скор > 0.76)**"
      ]
    },
    {
      "cell_type": "code",
      "metadata": {
        "id": "qglhuFTw7W_D"
      },
      "source": [
        ""
      ],
      "execution_count": null,
      "outputs": []
    },
    {
      "cell_type": "markdown",
      "metadata": {
        "id": "rD6x8K-u7SGJ"
      },
      "source": [
        "_Дальше можно не читать_..."
      ]
    },
    {
      "cell_type": "markdown",
      "metadata": {
        "id": "8TUccuC26EsF"
      },
      "source": [
        "Попробуем улучшить модель.  \r\n",
        "У нас остались неиспользованные фичи 'Fare' и 'SibSp'. Добавим их в модель, 'Fare' в чистом виде ухудшает модель (даже после масштабирования), поэтому я добавил категориальные фичи 'rich', 'poor' на его основе, сам 'Fare' дропнул.  \r\n",
        "\r\n",
        "В первой ячейке повторяем подготовку данных как в предыдущей модели (на всякий случай)"
      ]
    },
    {
      "cell_type": "code",
      "metadata": {
        "id": "aPSWxLmu4rY9"
      },
      "source": [
        "from sklearn.preprocessing import StandardScaler\r\n",
        "scaler = StandardScaler()\r\n",
        "#scaler.fit(data)\r\n",
        "#print(scaler.transform(data))"
      ],
      "execution_count": 14,
      "outputs": []
    },
    {
      "cell_type": "code",
      "metadata": {
        "id": "BKwsKhIzyiP3"
      },
      "source": [
        "X = data.drop('Survived', axis = 1)\r\n",
        "y = data['Survived']\r\n",
        "features = ['Pclass', 'Age', 'Sex', 'Fare']#, 'SibSp']\r\n",
        "X_train = X[features]\r\n",
        "X_train = X_train.merge(pd.get_dummies(X_train['Sex']), on = 'PassengerId')\r\n",
        "X_train = X_train.drop('Sex', axis = 1)\r\n",
        "X_train = X_train.merge(pd.get_dummies(X_train['Pclass']), on = 'PassengerId')\r\n",
        "X_train = X_train.drop('Pclass', axis = 1)\r\n",
        "X_train['Age'].fillna(X_train['Age'].mean(), inplace = True)\r\n",
        "#scaler.fit(X_train['Fare'].values.reshape(-1,1))\r\n",
        "#X_train['Fare'] = abs(scaler.transform(X_train['Fare'].values.reshape(-1,1)))\r\n",
        "\r\n",
        "test_data = pd.read_csv(os.path.join(PATH, 'test.csv')).set_index('PassengerId')\r\n",
        "X_test = test_data[features]\r\n",
        "X_test = X_test.merge(pd.get_dummies(X_test['Sex']), on = 'PassengerId')\r\n",
        "X_test = X_test.drop('Sex', axis = 1)\r\n",
        "X_test = X_test.merge(pd.get_dummies(X_test['Pclass']), on = 'PassengerId')\r\n",
        "X_test = X_test.drop('Pclass', axis = 1)\r\n",
        "X_test['Age'].fillna(X_test['Age'].mean(), inplace = True)\r\n",
        "X_test['Fare'] = X_test['Fare'].fillna(0)\r\n",
        "X_test['Fare'] = abs(scaler.transform(X_test['Fare'].values.reshape(-1,1)))"
      ],
      "execution_count": 24,
      "outputs": []
    },
    {
      "cell_type": "markdown",
      "metadata": {
        "id": "H88d3OlP6p3x"
      },
      "source": [
        "Добавляем категориальные фичи, порог в данном случае подобран вручную. Скорее всего, возможно улучшить"
      ]
    },
    {
      "cell_type": "code",
      "metadata": {
        "id": "OKKpTnVR27er"
      },
      "source": [
        "X_train.loc[X_train['Fare'] <= 23, 'poor'] = int(1)\r\n",
        "X_train.loc[X_train['Fare'] > 23, 'poor'] = int(0)\r\n",
        "X_train.loc[X_train['Fare'] >= 50, 'rich'] = int(1)\r\n",
        "X_train.loc[X_train['Fare'] < 50, 'rich'] = int(0)\r\n",
        "X_train['poor'] = X_train['poor'].astype('int')\r\n",
        "X_train['rich'] = X_train['rich'].astype('int')\r\n",
        "X_train = X_train.drop('Fare', axis = 1)\r\n",
        "\r\n",
        "X_test.loc[X_test['Fare'] <= 23, 'poor'] = int(1)\r\n",
        "X_test.loc[X_test['Fare'] > 23, 'poor'] = int(0)\r\n",
        "X_test.loc[X_test['Fare'] >= 50, 'rich'] = int(1)\r\n",
        "X_test.loc[X_test['Fare'] < 50, 'rich'] = int(0)\r\n",
        "X_test['poor'] = X_test['poor'].astype('int')\r\n",
        "X_test['rich'] = X_test['rich'].astype('int')\r\n",
        "X_test = X_test.drop('Fare', axis = 1)"
      ],
      "execution_count": null,
      "outputs": []
    },
    {
      "cell_type": "markdown",
      "metadata": {
        "id": "FevcpEjn7ATk"
      },
      "source": [
        "Испытываем новую модель (kNN), видим улучшение скора на кросс-валидации 0.7711 --> 0.7879"
      ]
    },
    {
      "cell_type": "code",
      "metadata": {
        "colab": {
          "base_uri": "https://localhost:8080/"
        },
        "id": "DrbHp1y0z3j8",
        "outputId": "fe1d7374-590a-4144-d33c-ddb67ac95daf"
      },
      "source": [
        "clf_knn = KNeighborsClassifier(n_neighbors=3)\r\n",
        "scores = cross_val_score(clf_knn, X_train, y, cv=5, scoring = 'accuracy')\r\n",
        "print('Mean accuracy for kNN: {:.4f}'.format(scores.mean()))"
      ],
      "execution_count": 25,
      "outputs": [
        {
          "output_type": "stream",
          "text": [
            "Mean accuracy for kNN: 0.7632\n"
          ],
          "name": "stdout"
        }
      ]
    },
    {
      "cell_type": "markdown",
      "metadata": {
        "id": "EOhR8b837MkM"
      },
      "source": [
        "Делаем предсказание и загружаем на Kaggle..."
      ]
    },
    {
      "cell_type": "code",
      "metadata": {
        "id": "4xFmWXi_0tjc"
      },
      "source": [
        "clf_knn.fit(X_train, y)\r\n",
        "knn = clf_knn.predict(X_test)\r\n",
        "submission = pd.read_csv(os.path.join(PATH, 'gender_submission.csv'))\r\n",
        "submission['Survived'] = knn\r\n",
        "submission.to_csv(os.path.join(PATH,'sub_knn_tune33d.csv'), index = False)"
      ],
      "execution_count": 26,
      "outputs": []
    },
    {
      "cell_type": "markdown",
      "metadata": {
        "id": "Q1h-BTx23_9g"
      },
      "source": [
        "Ничего хорошего не вышло... скор упал"
      ]
    },
    {
      "cell_type": "markdown",
      "metadata": {
        "id": "lk2yUUDRKtFP"
      },
      "source": [
        "Load the test set and make the predictions. Submit them to kaggle and see the results :)\n",
        "Select the best model, load the test set and make the predictions. Submit them to kaggle.\n",
        "\n",
        "**Note**. X points will depend on your kaggle leaderboard score.\n",
        "$$ f(score) = 0.5, \\ \\ 0.76 \\leq score < 0.78,$$\n",
        "$$ f(score) = 1.0, \\ \\ 0.78 \\leq score < 0.81,$$ \n",
        "$$ f(score) = 2.5, \\ \\ 0.81 \\leq score $$ \n",
        "Your code should generate the output submitted to kaggle. Fix random seeds to make the results reproducible."
      ]
    },
    {
      "cell_type": "markdown",
      "metadata": {
        "id": "bfCmhpz-G3GJ"
      },
      "source": [
        "Еще одна проба, с разбиением возраста на группы"
      ]
    },
    {
      "cell_type": "code",
      "metadata": {
        "id": "U7LidNVKDZmT"
      },
      "source": [
        "X = data.drop('Survived', axis = 1)\r\n",
        "y = data['Survived']\r\n",
        "features = ['Pclass', 'Age', 'Sex', 'Fare', 'SibSp']\r\n",
        "X_train = X[features]\r\n",
        "X_train = X_train.merge(pd.get_dummies(X_train['Sex']), on = 'PassengerId')\r\n",
        "X_train = X_train.drop('Sex', axis = 1)\r\n",
        "X_train = X_train.merge(pd.get_dummies(X_train['Pclass']), on = 'PassengerId')\r\n",
        "X_train = X_train.drop('Pclass', axis = 1)\r\n",
        "X_train['Age'].fillna(X_train['Age'].mean(), inplace = True)\r\n",
        "\r\n",
        "test_data = pd.read_csv(os.path.join(PATH, 'test.csv')).set_index('PassengerId')\r\n",
        "X_test = test_data[features]\r\n",
        "X_test = X_test.merge(pd.get_dummies(X_test['Sex']), on = 'PassengerId')\r\n",
        "X_test = X_test.drop('Sex', axis = 1)\r\n",
        "X_test = X_test.merge(pd.get_dummies(X_test['Pclass']), on = 'PassengerId')\r\n",
        "X_test = X_test.drop('Pclass', axis = 1)\r\n",
        "X_test['Age'].fillna(X_test['Age'].mean(), inplace = True)\r\n",
        "X_test['Fare'] = X_test['Fare'].fillna(0)\r\n",
        "\r\n",
        "X_train.loc[X_train['Fare'] <= 23, 'poor'] = int(1)\r\n",
        "X_train.loc[X_train['Fare'] > 23, 'poor'] = int(0)\r\n",
        "X_train.loc[X_train['Fare'] >= 50, 'rich'] = int(1)\r\n",
        "X_train.loc[X_train['Fare'] < 50, 'rich'] = int(0)\r\n",
        "X_train['poor'] = X_train['poor'].astype('int')\r\n",
        "X_train['rich'] = X_train['rich'].astype('int')\r\n",
        "X_train = X_train.drop('Fare', axis = 1)\r\n",
        "\r\n",
        "X_test.loc[X_test['Fare'] <= 23, 'poor'] = int(1)\r\n",
        "X_test.loc[X_test['Fare'] > 23, 'poor'] = int(0)\r\n",
        "X_test.loc[X_test['Fare'] >= 50, 'rich'] = int(1)\r\n",
        "X_test.loc[X_test['Fare'] < 50, 'rich'] = int(0)\r\n",
        "X_test['poor'] = X_test['poor'].astype('int')\r\n",
        "X_test['rich'] = X_test['rich'].astype('int')\r\n",
        "X_test = X_test.drop('Fare', axis = 1)"
      ],
      "execution_count": null,
      "outputs": []
    },
    {
      "cell_type": "code",
      "metadata": {
        "id": "z8Zbae0KER3-"
      },
      "source": [
        "X_train.loc[X_train['Age'] <= 10, 'age_group'] = int(0)\r\n",
        "X_train.loc[(X_train['Age'] > 10) & (X_train['Age'] <= 27), 'age_group'] = int(1)\r\n",
        "X_train.loc[X_train['Age'] > 27, 'age_group'] = int(2)\r\n",
        "X_train['age_group'] = X_train['age_group'].astype('int')\r\n",
        "\r\n",
        "X_test.loc[X_test['Age'] <= 10, 'age_group'] = int(0)\r\n",
        "X_test.loc[(X_test['Age'] > 10) & (X_test['Age'] <= 27), 'age_group'] = int(1)\r\n",
        "X_test.loc[X_test['Age'] > 27, 'age_group'] = int(2)\r\n",
        "X_test['age_group'] = X_test['age_group'].astype('int')"
      ],
      "execution_count": null,
      "outputs": []
    },
    {
      "cell_type": "code",
      "metadata": {
        "colab": {
          "base_uri": "https://localhost:8080/"
        },
        "id": "zDGX0uHFEGv-",
        "outputId": "c0b8459b-3a72-4218-c3c7-7e87c63ecfc9"
      },
      "source": [
        "clf_knn = KNeighborsClassifier(n_neighbors=3)\r\n",
        "scores = cross_val_score(clf_knn, X_train, y, cv=5, scoring = 'accuracy')\r\n",
        "print('Mean accuracy for kNN: {:.4f}'.format(scores.mean()))"
      ],
      "execution_count": null,
      "outputs": [
        {
          "output_type": "stream",
          "text": [
            "Mean accuracy for kNN: 0.7891\n"
          ],
          "name": "stdout"
        }
      ]
    },
    {
      "cell_type": "code",
      "metadata": {
        "id": "9bOuV_BlFX4j"
      },
      "source": [
        "clf_knn.fit(X_train, y)\r\n",
        "knn = clf_knn.predict(X_test)\r\n",
        "submission = pd.read_csv(os.path.join(PATH, 'gender_submission.csv'))\r\n",
        "submission['Survived'] = knn\r\n",
        "submission.to_csv(os.path.join(PATH,'sub_knn_tuned_age.csv'), index = False)"
      ],
      "execution_count": null,
      "outputs": []
    },
    {
      "cell_type": "markdown",
      "metadata": {
        "id": "UiqJKrd44Evw"
      },
      "source": [
        ""
      ]
    }
  ]
}